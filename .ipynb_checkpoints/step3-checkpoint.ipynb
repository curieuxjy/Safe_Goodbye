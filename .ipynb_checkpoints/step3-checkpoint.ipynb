{
 "cells": [
  {
   "cell_type": "markdown",
   "id": "ae53ac6e",
   "metadata": {},
   "source": [
    "# Pose estimation"
   ]
  },
  {
   "cell_type": "code",
   "execution_count": 11,
   "id": "dca26015",
   "metadata": {},
   "outputs": [],
   "source": [
    "import cv2\n",
    "import numpy as np\n",
    "import matplotlib.pyplot as plt\n",
    "import matplotlib.image as mpimg\n",
    "from tqdm import tqdm\n",
    "import json\n",
    "from os import walk\n",
    "import os\n",
    "%matplotlib inline"
   ]
  },
  {
   "cell_type": "code",
   "execution_count": 12,
   "id": "300db747",
   "metadata": {},
   "outputs": [
    {
     "name": "stderr",
     "output_type": "stream",
     "text": [
      "1it [00:00, 1002.22it/s]\n"
     ]
    }
   ],
   "source": [
    "path = \"D:\\\\Arrival_project\\\\result\"\n",
    "paths=[]\n",
    "for (dirpath, dirnames, filenames) in tqdm(walk(path)):\n",
    "    paths.append((dirpath, dirnames, filenames)) # directory\n",
    "\n",
    "paths = paths[0][2]"
   ]
  },
  {
   "cell_type": "code",
   "execution_count": 13,
   "id": "809d4001",
   "metadata": {},
   "outputs": [
    {
     "data": {
      "text/plain": [
       "'pic1.jpg'"
      ]
     },
     "execution_count": 13,
     "metadata": {},
     "output_type": "execute_result"
    }
   ],
   "source": [
    "paths[1]"
   ]
  },
  {
   "cell_type": "code",
   "execution_count": 19,
   "id": "bb71efd0",
   "metadata": {},
   "outputs": [],
   "source": [
    "def sort_img_files2(file_list):\n",
    "    lit=[]\n",
    "    for i in file_list:\n",
    "        num = str(i[3:][:-4]).zfill(3)\n",
    "        lit.append((num, i))\n",
    "    lit.sort()\n",
    "    return lit"
   ]
  },
  {
   "cell_type": "code",
   "execution_count": 20,
   "id": "634478b0",
   "metadata": {},
   "outputs": [],
   "source": [
    "img_files= [i for i in paths if i[-3:]==\"jpg\"]\n",
    "img_files = sort_img_files2(img_files)"
   ]
  },
  {
   "cell_type": "code",
   "execution_count": 21,
   "id": "50778a65",
   "metadata": {},
   "outputs": [
    {
     "data": {
      "text/plain": [
       "('002', 'pic2.jpg')"
      ]
     },
     "execution_count": 21,
     "metadata": {},
     "output_type": "execute_result"
    }
   ],
   "source": [
    "img_files[2]"
   ]
  },
  {
   "cell_type": "code",
   "execution_count": 36,
   "id": "7887413e",
   "metadata": {},
   "outputs": [
    {
     "name": "stderr",
     "output_type": "stream",
     "text": [
      "1it [00:00, 1001.03it/s]\n"
     ]
    }
   ],
   "source": [
    "path2 = \"D:\\\\work\\\\[hospital]attend_067C\"\n",
    "paths2=[]\n",
    "for (dirpath, dirnames, filenames) in tqdm(walk(path2)):\n",
    "    paths2.append((dirpath, dirnames, filenames)) # directory\n",
    "\n",
    "paths2 = paths2[0][2]\n",
    "label_files = [i for i in paths2 if i[-4:]==\"json\"]"
   ]
  },
  {
   "cell_type": "code",
   "execution_count": 30,
   "id": "7f74834d",
   "metadata": {},
   "outputs": [],
   "source": [
    "# paths2"
   ]
  },
  {
   "cell_type": "code",
   "execution_count": 37,
   "id": "90db669d",
   "metadata": {},
   "outputs": [],
   "source": [
    "def sort_label_files(file_list):\n",
    "    lit=[]\n",
    "    for i in file_list:\n",
    "        num = str(i[22:][:-5]).zfill(3)\n",
    "        lit.append((num, i))\n",
    "    lit.sort()\n",
    "    return lit"
   ]
  },
  {
   "cell_type": "code",
   "execution_count": 38,
   "id": "ca8f506e",
   "metadata": {},
   "outputs": [],
   "source": [
    "label_files = sort_label_files(label_files)"
   ]
  },
  {
   "cell_type": "code",
   "execution_count": 39,
   "id": "b9aea142",
   "metadata": {},
   "outputs": [
    {
     "data": {
      "text/plain": [
       "('004', '[hospital]attend_067C_4.json')"
      ]
     },
     "execution_count": 39,
     "metadata": {},
     "output_type": "execute_result"
    }
   ],
   "source": [
    "label_files[2]"
   ]
  },
  {
   "cell_type": "code",
   "execution_count": 42,
   "id": "53ebe93e",
   "metadata": {},
   "outputs": [
    {
     "name": "stderr",
     "output_type": "stream",
     "text": [
      "100%|████████████████████████████████████████████████████████████████████████████████| 143/143 [02:36<00:00,  1.09s/it]\n"
     ]
    },
    {
     "data": {
      "text/plain": [
       "<Figure size 432x288 with 0 Axes>"
      ]
     },
     "metadata": {},
     "output_type": "display_data"
    }
   ],
   "source": [
    "boxes=[]\n",
    "# get_offs=[]\n",
    "# keypoints=[]\n",
    "for i in tqdm(range(len(img_files))):\n",
    "    # one data\n",
    "    img = img_files[i][1]\n",
    "    img = \"D:\\\\Arrival_project\\\\result\"+\"\\\\\"+img\n",
    "    lab = label_files[i][1]\n",
    "    lab = \"D:\\\\work\\\\[hospital]attend_067C\"+\"\\\\\"+lab\n",
    "    \n",
    "#     plt.figure(figsize=(1080/96, 1920/96), dpi=96)\n",
    "#     fig.plot(img)\n",
    "    img_pic = mpimg.imread(img)\n",
    "#     fig=plt.imshow(img)\n",
    "    imgplot = plt.imshow(img_pic)\n",
    "#     x = 1920 / fig.dpi  # 가로 길이 (320 pixel)\n",
    "#     y = 1080 / fig.dpi  # 세로 길이 (240 pixel)\n",
    "#     img_pic.set_figwidth(x)\n",
    "#     img_pic.set_figheight(y)\n",
    "    ax=plt.gca()\n",
    "    ax.get_xaxis().set_visible(False)\n",
    "\n",
    "    with open(lab, \"r\") as json_data:\n",
    "        anno = json.load(json_data)\n",
    "    \n",
    "    \n",
    "    box=[]\n",
    "#     get_off=[]\n",
    "#     keypoint=[]\n",
    "#     xs = []\n",
    "#     ys = []\n",
    "#     tot = []\n",
    "    for idid in range(len(anno[\"annotations\"])):\n",
    "        dt = anno[\"annotations\"][idid]\n",
    "        \n",
    "        box.append(dt[\"bbox\"])\n",
    "        bp = dt[\"bbox\"]\n",
    "        h = bp[3]-bp[1]\n",
    "        w = bp[2]-bp[0]\n",
    "        y = bp[1]\n",
    "        x = bp[0]\n",
    "        crop_img = img_pic[y:y+h, x:x+w]\n",
    "        crop_imgplot = plt.imshow(crop_img)\n",
    "        plt.axis('off')\n",
    "        \n",
    "        if idid%5==0:\n",
    "            plt.savefig(\".\\\\last0\\\\pic\"+str(i).zfill(3)+str(idid)+\".jpg\", bbox_inches='tight', pad_inches=0, dpi=96*2.295)\n",
    "        elif idid%5==1:\n",
    "            plt.savefig(\".\\\\last1\\\\pic\"+str(i).zfill(3)+str(idid)+\".jpg\", bbox_inches='tight', pad_inches=0, dpi=96*2.295)\n",
    "        elif idid%5==2:\n",
    "            plt.savefig(\".\\\\last2\\\\pic\"+str(i).zfill(3)+str(idid)+\".jpg\", bbox_inches='tight', pad_inches=0, dpi=96*2.295)\n",
    "        elif idid%5==3:\n",
    "            plt.savefig(\".\\\\last3\\\\pic\"+str(i).zfill(3)+str(idid)+\".jpg\", bbox_inches='tight', pad_inches=0, dpi=96*2.295)\n",
    "        elif idid%5==4:\n",
    "            plt.savefig(\".\\\\last4\\\\pic\"+str(i).zfill(3)+str(idid)+\".jpg\", bbox_inches='tight', pad_inches=0, dpi=96*2.295)\n",
    "        else:\n",
    "            print(\"---!!!!!\")\n",
    "        plt.clf()\n",
    "        \n",
    "#         get_off.append(dt[\"get_off\"])\n",
    "        \n",
    "#         keypoint.append(dt[\"keypoints\"])\n",
    "        \n",
    "#         assert len(dt[\"keypoints\"])%3==0\n",
    "        \n",
    "#         x=[]\n",
    "#         y=[]\n",
    "#         for j in range(len(dt[\"keypoints\"])):\n",
    "#             if j%3==0:\n",
    "#                 x.append(dt[\"keypoints\"][j])\n",
    "#             elif j%3==1:\n",
    "#                 y.append(dt[\"keypoints\"][j])\n",
    "#             else:\n",
    "#                 pass\n",
    "            \n",
    "#         assert len(x)==len(y)\n",
    "#         xs.append(x)\n",
    "#         ys.append(y)\n",
    "    #143개여야 함    \n",
    "    boxes.append(box)\n",
    "#     get_offs.append(get_off)\n",
    "#     keypoints.append(keypoint)\n",
    "    \n",
    "#     for k in range(len(xs)):\n",
    "#         plt.plot(xs[k], ys[k], 'o')\n",
    "        \n",
    "    "
   ]
  },
  {
   "cell_type": "code",
   "execution_count": null,
   "id": "a83ea31b",
   "metadata": {},
   "outputs": [],
   "source": []
  }
 ],
 "metadata": {
  "kernelspec": {
   "display_name": "Python 3",
   "language": "python",
   "name": "python3"
  },
  "language_info": {
   "codemirror_mode": {
    "name": "ipython",
    "version": 3
   },
   "file_extension": ".py",
   "mimetype": "text/x-python",
   "name": "python",
   "nbconvert_exporter": "python",
   "pygments_lexer": "ipython3",
   "version": "3.8.8"
  }
 },
 "nbformat": 4,
 "nbformat_minor": 5
}
