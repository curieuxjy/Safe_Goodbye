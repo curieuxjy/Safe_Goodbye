{
 "cells": [
  {
   "cell_type": "markdown",
   "id": "5ebb7485-f8d3-4396-9867-d12a164a909b",
   "metadata": {},
   "source": [
    "# 이미지 위에 keypoint 그리기"
   ]
  },
  {
   "cell_type": "code",
   "execution_count": null,
   "id": "d6eaaee1-1451-46d4-9f8e-d72ac96c1df0",
   "metadata": {},
   "outputs": [],
   "source": []
  },
  {
   "cell_type": "code",
   "execution_count": null,
   "id": "55f030ac-32c3-476c-b28d-4efab9870e60",
   "metadata": {},
   "outputs": [],
   "source": []
  }
 ],
 "metadata": {
  "kernelspec": {
   "display_name": "Python 3",
   "language": "python",
   "name": "python3"
  },
  "language_info": {
   "codemirror_mode": {
    "name": "ipython",
    "version": 3
   },
   "file_extension": ".py",
   "mimetype": "text/x-python",
   "name": "python",
   "nbconvert_exporter": "python",
   "pygments_lexer": "ipython3",
   "version": "3.8.8"
  }
 },
 "nbformat": 4,
 "nbformat_minor": 5
}
