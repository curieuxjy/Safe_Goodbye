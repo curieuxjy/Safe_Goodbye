{
 "cells": [
  {
   "cell_type": "markdown",
   "id": "e6aa7ed1-36c0-47fa-ac9a-35b816272e72",
   "metadata": {},
   "source": [
    "# Get_off LSTM으로 예측하기"
   ]
  },
  {
   "cell_type": "code",
   "execution_count": null,
   "id": "2278d18d-ac15-445f-bcd9-506784edb426",
   "metadata": {},
   "outputs": [],
   "source": []
  },
  {
   "cell_type": "code",
   "execution_count": null,
   "id": "8c842df8-9462-467f-b22d-2d2df8eef9cd",
   "metadata": {},
   "outputs": [],
   "source": []
  },
  {
   "cell_type": "code",
   "execution_count": null,
   "id": "90d51618-bee1-4575-abea-eb2eaad7ba28",
   "metadata": {},
   "outputs": [],
   "source": []
  }
 ],
 "metadata": {
  "kernelspec": {
   "display_name": "Python 3",
   "language": "python",
   "name": "python3"
  },
  "language_info": {
   "codemirror_mode": {
    "name": "ipython",
    "version": 3
   },
   "file_extension": ".py",
   "mimetype": "text/x-python",
   "name": "python",
   "nbconvert_exporter": "python",
   "pygments_lexer": "ipython3",
   "version": "3.8.8"
  }
 },
 "nbformat": 4,
 "nbformat_minor": 5
}
